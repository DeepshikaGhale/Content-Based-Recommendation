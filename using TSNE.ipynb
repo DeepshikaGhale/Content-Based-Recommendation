{
 "cells": [
  {
   "cell_type": "code",
   "execution_count": 2,
   "id": "corporate-patio",
   "metadata": {},
   "outputs": [],
   "source": [
    "import pandas as pd\n",
    "import numpy as np\n",
    "from sklearn.manifold import TSNE"
   ]
  },
  {
   "cell_type": "code",
   "execution_count": 2,
   "id": "speaking-level",
   "metadata": {},
   "outputs": [],
   "source": [
    "# Load the data\n",
    "cosm_2 = pd.read_csv('data/ocosmetic_p.csv')"
   ]
  },
  {
   "cell_type": "code",
   "execution_count": 3,
   "id": "personal-mounting",
   "metadata": {},
   "outputs": [],
   "source": [
    "# All possible combinations for the option choices\n",
    "option_1 = cosm_2.Label.unique().tolist()\n",
    "option_2 = cosm_2.columns[6:].tolist()"
   ]
  },
  {
   "cell_type": "code",
   "execution_count": 4,
   "id": "major-precipitation",
   "metadata": {},
   "outputs": [],
   "source": [
    "#defining functions embedding ingredients and decomposition at once\n",
    "def make_my_recommendation(op_1, op_2):\n",
    "    df = cosm_2[cosm_2['Label'] == op_1][cosm_2[op_2] == 1]\n",
    "    df = df.reset_index()\n",
    "\n",
    "    # embedding each ingredients\n",
    "    ingredient_idx = {}\n",
    "    corpus = []\n",
    "    idx = 0\n",
    "\n",
    "    for i in range(len(df)):\n",
    "        ingreds = df['ingredients'][i]\n",
    "        ingreds = ingreds.lower()\n",
    "        tokens = ingreds.split(', ')\n",
    "        corpus.append(tokens)\n",
    "        for ingredient in tokens:\n",
    "            if ingredient not in ingredient_idx:\n",
    "                ingredient_idx[ingredient] = idx\n",
    "                idx += 1\n",
    "\n",
    "    # Get the number of items and tokens\n",
    "    M = len(df)                 # The number of the items\n",
    "    N = len(ingredient_idx)     # The number of the ingredients\n",
    "\n",
    "    # Initialize a matrix of zeros\n",
    "    A = np.zeros(shape = (M, N))\n",
    "\n",
    "    # Define the oh_encoder function\n",
    "    def oh_encoder(tokens):\n",
    "        x = np.zeros(N)\n",
    "        for t in tokens:\n",
    "            # Get the index for each ingredient\n",
    "            idx = ingredient_idx[t]\n",
    "            # Put 1 at the corresponding indices\n",
    "            x[idx] = 1\n",
    "        return x\n",
    "\n",
    "    # Make a document-term matrix\n",
    "    i = 0\n",
    "    for tokens in corpus:\n",
    "        A[i, :] = oh_encoder(tokens)\n",
    "        i += 1\n",
    "\n",
    "    # Dimension reduction with t-SNE\n",
    "    model = TSNE(n_components = 2, learning_rate = 200)\n",
    "    tsne_features = model.fit_transform(A)\n",
    "\n",
    "    # Make X, Y columns\n",
    "    df['X'] = tsne_features[:, 0]\n",
    "    df['Y'] = tsne_features[:, 1]\n",
    "    return df"
   ]
  },
  {
   "cell_type": "code",
   "execution_count": 6,
   "id": "basic-drove",
   "metadata": {},
   "outputs": [
    {
     "name": "stderr",
     "output_type": "stream",
     "text": [
      "<ipython-input-4-c2334c223e3a>:3: UserWarning: Boolean Series key will be reindexed to match DataFrame index.\n",
      "  df = cosm_2[cosm_2['Label'] == op_1][cosm_2[op_2] == 1]\n",
      "<ipython-input-4-c2334c223e3a>:3: UserWarning: Boolean Series key will be reindexed to match DataFrame index.\n",
      "  df = cosm_2[cosm_2['Label'] == op_1][cosm_2[op_2] == 1]\n",
      "<ipython-input-4-c2334c223e3a>:3: UserWarning: Boolean Series key will be reindexed to match DataFrame index.\n",
      "  df = cosm_2[cosm_2['Label'] == op_1][cosm_2[op_2] == 1]\n",
      "<ipython-input-4-c2334c223e3a>:3: UserWarning: Boolean Series key will be reindexed to match DataFrame index.\n",
      "  df = cosm_2[cosm_2['Label'] == op_1][cosm_2[op_2] == 1]\n",
      "<ipython-input-4-c2334c223e3a>:3: UserWarning: Boolean Series key will be reindexed to match DataFrame index.\n",
      "  df = cosm_2[cosm_2['Label'] == op_1][cosm_2[op_2] == 1]\n",
      "<ipython-input-4-c2334c223e3a>:3: UserWarning: Boolean Series key will be reindexed to match DataFrame index.\n",
      "  df = cosm_2[cosm_2['Label'] == op_1][cosm_2[op_2] == 1]\n",
      "<ipython-input-4-c2334c223e3a>:3: UserWarning: Boolean Series key will be reindexed to match DataFrame index.\n",
      "  df = cosm_2[cosm_2['Label'] == op_1][cosm_2[op_2] == 1]\n",
      "<ipython-input-4-c2334c223e3a>:3: UserWarning: Boolean Series key will be reindexed to match DataFrame index.\n",
      "  df = cosm_2[cosm_2['Label'] == op_1][cosm_2[op_2] == 1]\n",
      "<ipython-input-4-c2334c223e3a>:3: UserWarning: Boolean Series key will be reindexed to match DataFrame index.\n",
      "  df = cosm_2[cosm_2['Label'] == op_1][cosm_2[op_2] == 1]\n",
      "<ipython-input-4-c2334c223e3a>:3: UserWarning: Boolean Series key will be reindexed to match DataFrame index.\n",
      "  df = cosm_2[cosm_2['Label'] == op_1][cosm_2[op_2] == 1]\n",
      "<ipython-input-4-c2334c223e3a>:3: UserWarning: Boolean Series key will be reindexed to match DataFrame index.\n",
      "  df = cosm_2[cosm_2['Label'] == op_1][cosm_2[op_2] == 1]\n",
      "<ipython-input-4-c2334c223e3a>:3: UserWarning: Boolean Series key will be reindexed to match DataFrame index.\n",
      "  df = cosm_2[cosm_2['Label'] == op_1][cosm_2[op_2] == 1]\n",
      "<ipython-input-4-c2334c223e3a>:3: UserWarning: Boolean Series key will be reindexed to match DataFrame index.\n",
      "  df = cosm_2[cosm_2['Label'] == op_1][cosm_2[op_2] == 1]\n",
      "<ipython-input-4-c2334c223e3a>:3: UserWarning: Boolean Series key will be reindexed to match DataFrame index.\n",
      "  df = cosm_2[cosm_2['Label'] == op_1][cosm_2[op_2] == 1]\n",
      "<ipython-input-4-c2334c223e3a>:3: UserWarning: Boolean Series key will be reindexed to match DataFrame index.\n",
      "  df = cosm_2[cosm_2['Label'] == op_1][cosm_2[op_2] == 1]\n",
      "<ipython-input-4-c2334c223e3a>:3: UserWarning: Boolean Series key will be reindexed to match DataFrame index.\n",
      "  df = cosm_2[cosm_2['Label'] == op_1][cosm_2[op_2] == 1]\n",
      "<ipython-input-4-c2334c223e3a>:3: UserWarning: Boolean Series key will be reindexed to match DataFrame index.\n",
      "  df = cosm_2[cosm_2['Label'] == op_1][cosm_2[op_2] == 1]\n",
      "<ipython-input-4-c2334c223e3a>:3: UserWarning: Boolean Series key will be reindexed to match DataFrame index.\n",
      "  df = cosm_2[cosm_2['Label'] == op_1][cosm_2[op_2] == 1]\n",
      "<ipython-input-4-c2334c223e3a>:3: UserWarning: Boolean Series key will be reindexed to match DataFrame index.\n",
      "  df = cosm_2[cosm_2['Label'] == op_1][cosm_2[op_2] == 1]\n",
      "<ipython-input-4-c2334c223e3a>:3: UserWarning: Boolean Series key will be reindexed to match DataFrame index.\n",
      "  df = cosm_2[cosm_2['Label'] == op_1][cosm_2[op_2] == 1]\n",
      "<ipython-input-4-c2334c223e3a>:3: UserWarning: Boolean Series key will be reindexed to match DataFrame index.\n",
      "  df = cosm_2[cosm_2['Label'] == op_1][cosm_2[op_2] == 1]\n",
      "<ipython-input-4-c2334c223e3a>:3: UserWarning: Boolean Series key will be reindexed to match DataFrame index.\n",
      "  df = cosm_2[cosm_2['Label'] == op_1][cosm_2[op_2] == 1]\n",
      "<ipython-input-4-c2334c223e3a>:3: UserWarning: Boolean Series key will be reindexed to match DataFrame index.\n",
      "  df = cosm_2[cosm_2['Label'] == op_1][cosm_2[op_2] == 1]\n",
      "<ipython-input-4-c2334c223e3a>:3: UserWarning: Boolean Series key will be reindexed to match DataFrame index.\n",
      "  df = cosm_2[cosm_2['Label'] == op_1][cosm_2[op_2] == 1]\n",
      "<ipython-input-4-c2334c223e3a>:3: UserWarning: Boolean Series key will be reindexed to match DataFrame index.\n",
      "  df = cosm_2[cosm_2['Label'] == op_1][cosm_2[op_2] == 1]\n",
      "<ipython-input-4-c2334c223e3a>:3: UserWarning: Boolean Series key will be reindexed to match DataFrame index.\n",
      "  df = cosm_2[cosm_2['Label'] == op_1][cosm_2[op_2] == 1]\n",
      "<ipython-input-4-c2334c223e3a>:3: UserWarning: Boolean Series key will be reindexed to match DataFrame index.\n",
      "  df = cosm_2[cosm_2['Label'] == op_1][cosm_2[op_2] == 1]\n",
      "<ipython-input-4-c2334c223e3a>:3: UserWarning: Boolean Series key will be reindexed to match DataFrame index.\n",
      "  df = cosm_2[cosm_2['Label'] == op_1][cosm_2[op_2] == 1]\n",
      "<ipython-input-4-c2334c223e3a>:3: UserWarning: Boolean Series key will be reindexed to match DataFrame index.\n",
      "  df = cosm_2[cosm_2['Label'] == op_1][cosm_2[op_2] == 1]\n",
      "<ipython-input-4-c2334c223e3a>:3: UserWarning: Boolean Series key will be reindexed to match DataFrame index.\n",
      "  df = cosm_2[cosm_2['Label'] == op_1][cosm_2[op_2] == 1]\n"
     ]
    }
   ],
   "source": [
    "# Creating the dataframe for all combinations\n",
    "df_all = pd.DataFrame()\n",
    "for op_1 in option_1:\n",
    "    for op_2 in option_2:\n",
    "            temp = make_my_recommendation(op_1, op_2)\n",
    "            temp['Label'] = op_1 + '_' + op_2\n",
    "            df_all = pd.concat([df_all, temp])"
   ]
  },
  {
   "cell_type": "code",
   "execution_count": null,
   "id": "experimental-adelaide",
   "metadata": {},
   "outputs": [],
   "source": [
    "# Save the file\n",
    "#df_all.to_csv('data/ocosmetic_TSNE.csv', encoding = 'utf-8-sig', index = False)"
   ]
  },
  {
   "cell_type": "code",
   "execution_count": 7,
   "id": "joint-mountain",
   "metadata": {},
   "outputs": [
    {
     "data": {
      "text/plain": [
       "<bound method NDFrame.tail of     index                    Label            brand  \\\n",
       "0       0  Moisturizer_Combination           LA MER   \n",
       "1       1  Moisturizer_Combination            SK-II   \n",
       "2       2  Moisturizer_Combination   DRUNK ELEPHANT   \n",
       "3       3  Moisturizer_Combination           LA MER   \n",
       "4       4  Moisturizer_Combination     IT COSMETICS   \n",
       "..    ...                      ...              ...   \n",
       "73   1457    Sun protect_Sensitive  MDSOLARSCIENCES   \n",
       "74   1458    Sun protect_Sensitive            COOLA   \n",
       "75   1464    Sun protect_Sensitive     IT COSMETICS   \n",
       "76   1467    Sun protect_Sensitive           KORRES   \n",
       "77   1471    Sun protect_Sensitive       DERMAFLASH   \n",
       "\n",
       "                                                 name  price  rank  \\\n",
       "0                                     Crème de la Mer    175   4.1   \n",
       "1                            Facial Treatment Essence    179   4.1   \n",
       "2                          Protini™ Polypeptide Cream     68   4.4   \n",
       "3                         The Moisturizing Soft Cream    175   3.8   \n",
       "4       Your Skin But Better™ CC+™ Cream with SPF 50+     38   4.1   \n",
       "..                                                ...    ...   ...   \n",
       "73  Quick Dry Body Spray With SolSci-X™ Broad Spec...     20   3.9   \n",
       "74          Sport Continuous Spray SPF 30 - Unscented     32   5.0   \n",
       "75  Anti-Aging Armour™ Super Smart Skin-Perfecting...     38   4.1   \n",
       "76  Yoghurt Nourishing Fluid Veil Face Sunscreen B...     35   3.9   \n",
       "77  DERMAPROTECT Daily Defense Broad Spectrum SPF 50+     45   0.0   \n",
       "\n",
       "                                          ingredients  Combination  Dry  \\\n",
       "0   Algae (Seaweed) Extract, Mineral Oil, Petrolat...            1    1   \n",
       "1   Galactomyces Ferment Filtrate (Pitera), Butyle...            1    1   \n",
       "2   Water, Dicaprylyl Carbonate, Glycerin, Ceteary...            1    1   \n",
       "3   Algae (Seaweed) Extract, Cyclopentasiloxane, P...            1    1   \n",
       "4   Water, Snail Secretion Filtrate, Phenyl Trimet...            1    1   \n",
       "..                                                ...          ...  ...   \n",
       "73  SD Alcohol 40, Butyloctyl Salicylate, Polyeste...            1    1   \n",
       "74  Alcohol (Organic), Algae Extract (Organic), Al...            1    1   \n",
       "75  Water, Cyclopentasiloxane, Butyloctyl Salicyla...            1    1   \n",
       "76  Water, Alcohol Denat., Potassium Cetyl Phospha...            1    1   \n",
       "77                      Visit the DERMAFLASH boutique            1    1   \n",
       "\n",
       "    Normal  Oily  Sensitive           X           Y  \n",
       "0        1     1          1  -44.992390  -17.980145  \n",
       "1        1     1          1   -0.751037   13.795555  \n",
       "2        1     1          0   76.947716   -8.335147  \n",
       "3        1     1          1  -52.921848  -25.707924  \n",
       "4        1     1          1  -10.050638   87.289345  \n",
       "..     ...   ...        ...         ...         ...  \n",
       "73       1     1          1  -30.403719   27.706783  \n",
       "74       1     1          1  -52.199444    6.873539  \n",
       "75       1     1          1 -104.995735  159.762421  \n",
       "76       1     1          1  -58.289482 -160.061264  \n",
       "77       1     1          1   19.996866   13.357114  \n",
       "\n",
       "[4480 rows x 14 columns]>"
      ]
     },
     "execution_count": 7,
     "metadata": {},
     "output_type": "execute_result"
    }
   ],
   "source": [
    "df_all.tail"
   ]
  },
  {
   "cell_type": "code",
   "execution_count": null,
   "id": "meaningful-ethics",
   "metadata": {},
   "outputs": [],
   "source": [
    "df_all.info()"
   ]
  },
  {
   "cell_type": "code",
   "execution_count": 6,
   "id": "occupied-relationship",
   "metadata": {},
   "outputs": [],
   "source": [
    "# Load the\n",
    "csvfile = pd.read_csv('array.csv')"
   ]
  },
  {
   "cell_type": "code",
   "execution_count": 8,
   "id": "empty-flavor",
   "metadata": {},
   "outputs": [],
   "source": [
    "def unique(list1):\n",
    "    x = np.array(csvfile)\n",
    "    print(np.unique(x))"
   ]
  },
  {
   "cell_type": "code",
   "execution_count": 9,
   "id": "entertaining-boxing",
   "metadata": {},
   "outputs": [
    {
     "name": "stdout",
     "output_type": "stream",
     "text": [
      "['ALGENIST' 'AMOREPACIFIC' 'ANTHONY' 'APIVITA' 'BAREMINERALS' 'BEAUTYBIO'\n",
      " 'BECCA' 'BELIF' 'BIOEFFECT' 'BIOSSANCE' 'BLACK UP' 'BLITHE' 'BOBBI BROWN'\n",
      " 'BOSCIA' 'CANE + AUSTIN' 'CAUDALIE' 'CHARLOTTE TILBURY' 'CLARINS'\n",
      " 'CLARISONIC' 'CLINIQUE' 'COOLA' 'COVER FX' 'DERMADOCTOR' 'DERMAFLASH'\n",
      " 'DIOR' 'DR ROEBUCK’S' 'DR. BRANDT SKINCARE' 'DR. DENNIS GROSS SKINCARE'\n",
      " 'DR. JART+' 'DRUNK ELEPHANT' 'EDIBLE BEAUTY' 'ERBORIAN' 'ERNO LASZLO'\n",
      " 'ESTÉE LAUDER' 'EVE LOM' 'FARMACY' 'FARSÁLI' 'FENTY BEAUTY BY RIHANNA'\n",
      " 'FIRST AID BEAUTY' 'FOREO' 'FRESH' 'GLAMGLOW' 'GLOW RECIPE' 'GO-TO'\n",
      " 'GUERLAIN' 'HERBIVORE' 'HUM NUTRITION' 'ILIA' 'INDIE LEE' 'IT COSMETICS'\n",
      " 'J.ONE' 'JACK BLACK' 'JOSIE MARAN' 'KAPLAN MD' 'KAT VON D'\n",
      " 'KATE SOMERVILLE' 'KENZOKI' \"KIEHL'S SINCE 1851\" 'KLORANE' 'KOH GEN DO'\n",
      " 'KOPARI' 'KORA ORGANICS' 'KORRES' \"L'OCCITANE\" 'LA MER' 'LANCER'\n",
      " 'LANCÔME' 'LANEIGE' 'LAURA MERCIER' 'LIGHTSTIM' 'MAKE UP FOR EVER'\n",
      " 'MAKEUP ERASER' 'MDSOLARSCIENCES' 'MILK MAKEUP' 'MOON JUICE'\n",
      " 'MOROCCANOIL' 'MURAD' 'NARS' 'NATURALLY SERIOUS' 'NEOGEN DERMALOGY'\n",
      " 'NUFACE' 'NURSE JAMIE' 'OLEHENRIKSEN' 'OMOROVICZA' 'ORIGINS' 'PEACE OUT'\n",
      " 'PERRICONE MD' 'PETER THOMAS ROTH' 'PHILOSOPHY' 'PRIVATE DOCTOR'\n",
      " 'REN CLEAN SKINCARE' 'SAND & SKY' 'SATURDAY SKIN' 'SEPHORA COLLECTION'\n",
      " 'SHISEIDO' 'SK-II' 'SKIN INC SUPPLEMENT BAR' 'SKIN LAUNDRY' 'SMASHBOX'\n",
      " 'SON & PARK' 'ST. TROPEZ TANNING ESSENTIALS' 'SUMMER FRIDAYS'\n",
      " 'SUNDAY RILEY' 'SUPERGOOP!' 'TARTE' 'TATA HARPER' 'TATCHA' 'TOM FORD'\n",
      " 'TOO COOL FOR SCHOOL' 'TOO FACED' 'URBAN DECAY' 'VITA LIBERATA'\n",
      " 'VOLITION BEAUTY' 'WANDER BEAUTY' 'YOUTH TO THE PEOPLE'\n",
      " 'YVES SAINT LAURENT']\n"
     ]
    }
   ],
   "source": [
    "unique(csvfile)"
   ]
  },
  {
   "cell_type": "code",
   "execution_count": null,
   "id": "radio-madness",
   "metadata": {},
   "outputs": [],
   "source": []
  }
 ],
 "metadata": {
  "kernelspec": {
   "display_name": "Python 3",
   "language": "python",
   "name": "python3"
  },
  "language_info": {
   "codemirror_mode": {
    "name": "ipython",
    "version": 3
   },
   "file_extension": ".py",
   "mimetype": "text/x-python",
   "name": "python",
   "nbconvert_exporter": "python",
   "pygments_lexer": "ipython3",
   "version": "3.8.5"
  }
 },
 "nbformat": 4,
 "nbformat_minor": 5
}
