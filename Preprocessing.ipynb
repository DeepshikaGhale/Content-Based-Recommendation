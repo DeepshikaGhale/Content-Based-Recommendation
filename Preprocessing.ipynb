{
 "cells": [
  {
   "cell_type": "code",
   "execution_count": 1,
   "id": "stone-monkey",
   "metadata": {},
   "outputs": [],
   "source": [
    "import pandas as pd\n",
    "import numpy as np\n",
    "import re\n",
    "import matplotlib.pyplot as plt"
   ]
  },
  {
   "cell_type": "code",
   "execution_count": 2,
   "id": "athletic-mongolia",
   "metadata": {},
   "outputs": [
    {
     "name": "stdout",
     "output_type": "stream",
     "text": [
      "<class 'pandas.core.frame.DataFrame'>\n",
      "RangeIndex: 12 entries, 0 to 11\n",
      "Data columns (total 9 columns):\n",
      " #   Column         Non-Null Count  Dtype  \n",
      "---  ------         --------------  -----  \n",
      " 0   Label          12 non-null     object \n",
      " 1   URL            12 non-null     object \n",
      " 2   brand          12 non-null     object \n",
      " 3   name           12 non-null     object \n",
      " 4   price          12 non-null     object \n",
      " 5   rank           12 non-null     float64\n",
      " 6   skin_type      12 non-null     object \n",
      " 7   ingredients    12 non-null     object \n",
      " 8   product_image  12 non-null     object \n",
      "dtypes: float64(1), object(8)\n",
      "memory usage: 544.0+ bytes\n",
      "<class 'pandas.core.frame.DataFrame'>\n",
      "Int64Index: 12 entries, 0 to 11\n",
      "Data columns (total 9 columns):\n",
      " #   Column         Non-Null Count  Dtype  \n",
      "---  ------         --------------  -----  \n",
      " 0   Label          12 non-null     object \n",
      " 1   URL            12 non-null     object \n",
      " 2   brand          12 non-null     object \n",
      " 3   name           12 non-null     object \n",
      " 4   price          12 non-null     object \n",
      " 5   rank           12 non-null     float64\n",
      " 6   skin_type      12 non-null     object \n",
      " 7   ingredients    12 non-null     object \n",
      " 8   product_image  12 non-null     object \n",
      "dtypes: float64(1), object(8)\n",
      "memory usage: 576.0+ bytes\n"
     ]
    }
   ],
   "source": [
    "#step 1 : Data cleaning\n",
    "cosm = pd.read_csv('data/cleanser.csv')\n",
    "cosm.info()\n",
    "\n",
    "cosm = cosm.loc[pd.notnull(cosm['ingredients'])]\n",
    "cosm.info()"
   ]
  },
  {
   "cell_type": "code",
   "execution_count": 3,
   "id": "editorial-doctor",
   "metadata": {},
   "outputs": [
    {
     "name": "stderr",
     "output_type": "stream",
     "text": [
      "<ipython-input-3-67030a99549d>:2: SettingWithCopyWarning: \n",
      "A value is trying to be set on a copy of a slice from a DataFrame\n",
      "\n",
      "See the caveats in the documentation: https://pandas.pydata.org/pandas-docs/stable/user_guide/indexing.html#returning-a-view-versus-a-copy\n",
      "  cosm.Label[cosm['Label'] == 'lip-treatments'] = str('Lip Care')\n"
     ]
    }
   ],
   "source": [
    "#setting lab\n",
    "cosm.Label[cosm['Label'] == 'lip-treatments'] = str('Lip Care')"
   ]
  },
  {
   "cell_type": "code",
   "execution_count": 4,
   "id": "exotic-reliance",
   "metadata": {},
   "outputs": [],
   "source": [
    "# name -> duplicated item\n",
    "df_2 = cosm['name'].drop_duplicates()\n",
    "cosm = cosm.loc[df_2.index, :].reset_index()"
   ]
  },
  {
   "cell_type": "code",
   "execution_count": 5,
   "id": "incorporated-consultancy",
   "metadata": {},
   "outputs": [],
   "source": [
    "# URL\n",
    "cosm.drop(['URL', 'index'], axis = 1, inplace = True)"
   ]
  },
  {
   "cell_type": "code",
   "execution_count": 6,
   "id": "functioning-mounting",
   "metadata": {},
   "outputs": [
    {
     "name": "stderr",
     "output_type": "stream",
     "text": [
      "<ipython-input-6-22f4ee46374b>:4: SettingWithCopyWarning: \n",
      "A value is trying to be set on a copy of a slice from a DataFrame\n",
      "\n",
      "See the caveats in the documentation: https://pandas.pydata.org/pandas-docs/stable/user_guide/indexing.html#returning-a-view-versus-a-copy\n",
      "  cosm['price'][i] = re.findall(pattern, cosm['price'][i])[0]\n"
     ]
    }
   ],
   "source": [
    "# price\n",
    "pattern = re.compile(r\"(\\d+).\\d+\")\n",
    "for i in range(len(cosm)):\n",
    "    cosm['price'][i] = re.findall(pattern, cosm['price'][i])[0]\n",
    "\n",
    "cosm['price'] = pd.to_numeric(cosm['price'])"
   ]
  },
  {
   "cell_type": "code",
   "execution_count": 7,
   "id": "rapid-mathematics",
   "metadata": {},
   "outputs": [
    {
     "name": "stdout",
     "output_type": "stream",
     "text": [
      "<class 'pandas.core.frame.DataFrame'>\n",
      "RangeIndex: 12 entries, 0 to 11\n",
      "Data columns (total 8 columns):\n",
      " #   Column         Non-Null Count  Dtype  \n",
      "---  ------         --------------  -----  \n",
      " 0   Label          12 non-null     object \n",
      " 1   brand          12 non-null     object \n",
      " 2   name           12 non-null     object \n",
      " 3   price          12 non-null     int64  \n",
      " 4   rank           12 non-null     float64\n",
      " 5   skin_type      12 non-null     object \n",
      " 6   ingredients    12 non-null     object \n",
      " 7   product_image  12 non-null     object \n",
      "dtypes: float64(1), int64(1), object(6)\n",
      "memory usage: 544.0+ bytes\n"
     ]
    }
   ],
   "source": [
    "# rank\n",
    "cosm['rank'].fillna(0, inplace = True)\n",
    "cosm.info()"
   ]
  },
  {
   "cell_type": "code",
   "execution_count": 8,
   "id": "reported-medium",
   "metadata": {},
   "outputs": [
    {
     "name": "stderr",
     "output_type": "stream",
     "text": [
      "<ipython-input-8-2878d5c40687>:4: SettingWithCopyWarning: \n",
      "A value is trying to be set on a copy of a slice from a DataFrame\n",
      "\n",
      "See the caveats in the documentation: https://pandas.pydata.org/pandas-docs/stable/user_guide/indexing.html#returning-a-view-versus-a-copy\n",
      "  cosm['skin_type'][i] = re.findall(pattern, cosm['skin_type'][i])\n"
     ]
    }
   ],
   "source": [
    "# skin_type\n",
    "pattern = re.compile(r\"([a-zA-Z]+)\\\\n\")\n",
    "for i in range(len(cosm)):\n",
    "    cosm['skin_type'][i] = re.findall(pattern, cosm['skin_type'][i])"
   ]
  },
  {
   "cell_type": "code",
   "execution_count": 9,
   "id": "incoming-stuart",
   "metadata": {},
   "outputs": [],
   "source": [
    "## list column dummies\n",
    "df_2 = cosm['skin_type'].str.join('|').str.get_dummies()\n",
    "cosm_2 = cosm.join(df_2).drop('skin_type', axis = 1)"
   ]
  },
  {
   "cell_type": "code",
   "execution_count": 10,
   "id": "private-school",
   "metadata": {},
   "outputs": [
    {
     "name": "stderr",
     "output_type": "stream",
     "text": [
      "<ipython-input-10-6f881ff53e69>:12: SettingWithCopyWarning: \n",
      "A value is trying to be set on a copy of a slice from a DataFrame\n",
      "\n",
      "See the caveats in the documentation: https://pandas.pydata.org/pandas-docs/stable/user_guide/indexing.html#returning-a-view-versus-a-copy\n",
      "  cosm_2['ingredients'][i] = a[i][j]\n"
     ]
    }
   ],
   "source": [
    "# Split the ingredients with '\\r\\n\\r\\n'\n",
    "a = [t.split('\\r\\n\\r\\n') for t in cosm['ingredients']]\n",
    "\n",
    "# Take onle the part with the real ingredients \n",
    "pattern = ['\\r\\n', '-\\w+: ', 'Please', 'No Info', \n",
    "           'This product','Visit', 'Features', 'Moisture Wrap™ Technology']\n",
    "\n",
    "for i in range(len(cosm)):\n",
    "    num = len(a[i])\n",
    "    for j in range(num):\n",
    "        if all(x not in a[i][j] for x in pattern):\n",
    "            cosm_2['ingredients'][i] = a[i][j]"
   ]
  },
  {
   "cell_type": "code",
   "execution_count": 11,
   "id": "pursuant-lloyd",
   "metadata": {},
   "outputs": [],
   "source": [
    "# save the file\n",
    "cosm_2.to_csv('data/cleanser_p.csv', encoding = 'utf-8-sig', index = False)"
   ]
  },
  {
   "cell_type": "code",
   "execution_count": null,
   "id": "physical-washington",
   "metadata": {},
   "outputs": [],
   "source": []
  }
 ],
 "metadata": {
  "kernelspec": {
   "display_name": "Python 3",
   "language": "python",
   "name": "python3"
  },
  "language_info": {
   "codemirror_mode": {
    "name": "ipython",
    "version": 3
   },
   "file_extension": ".py",
   "mimetype": "text/x-python",
   "name": "python",
   "nbconvert_exporter": "python",
   "pygments_lexer": "ipython3",
   "version": "3.8.5"
  }
 },
 "nbformat": 4,
 "nbformat_minor": 5
}
