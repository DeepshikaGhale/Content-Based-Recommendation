{
 "cells": [
  {
   "cell_type": "code",
   "execution_count": 1,
   "id": "different-workplace",
   "metadata": {},
   "outputs": [
    {
     "name": "stdout",
     "output_type": "stream",
     "text": [
      "Requirement already satisfied: selenium in c:\\users\\hp\\miniconda3\\lib\\site-packages (3.141.0)\n",
      "Requirement already satisfied: urllib3 in c:\\users\\hp\\miniconda3\\lib\\site-packages (from selenium) (1.25.11)\n",
      "Note: you may need to restart the kernel to use updated packages.\n"
     ]
    },
    {
     "name": "stderr",
     "output_type": "stream",
     "text": [
      "WARNING: You are using pip version 21.0.1; however, version 21.1.1 is available.\n",
      "You should consider upgrading via the 'C:\\Users\\HP\\miniconda3\\python.exe -m pip install --upgrade pip' command.\n"
     ]
    }
   ],
   "source": [
    "pip install selenium"
   ]
  },
  {
   "cell_type": "code",
   "execution_count": 2,
   "id": "deluxe-tobago",
   "metadata": {},
   "outputs": [
    {
     "name": "stdout",
     "output_type": "stream",
     "text": [
      "Note: you may need to restart the kernel to use updated packages.\n"
     ]
    },
    {
     "name": "stderr",
     "output_type": "stream",
     "text": [
      "WARNING: You are using pip version 21.0.1; however, version 21.1.1 is available.\n",
      "You should consider upgrading via the 'C:\\Users\\HP\\miniconda3\\python.exe -m pip install --upgrade pip' command.\n"
     ]
    },
    {
     "name": "stdout",
     "output_type": "stream",
     "text": [
      "Requirement already satisfied: BS4 in c:\\users\\hp\\miniconda3\\lib\\site-packages (0.0.1)\n",
      "Requirement already satisfied: beautifulsoup4 in c:\\users\\hp\\miniconda3\\lib\\site-packages (from BS4) (4.9.3)\n",
      "Requirement already satisfied: soupsieve>1.2 in c:\\users\\hp\\miniconda3\\lib\\site-packages (from beautifulsoup4->BS4) (2.2.1)\n"
     ]
    }
   ],
   "source": [
    "pip install BS4"
   ]
  },
  {
   "cell_type": "code",
   "execution_count": 3,
   "id": "german-appraisal",
   "metadata": {},
   "outputs": [],
   "source": [
    "from selenium import webdriver\n",
    "from selenium.webdriver.common.keys import Keys\n",
    "from selenium.webdriver.common.by import By\n",
    "from selenium.common.exceptions import NoSuchElementException"
   ]
  },
  {
   "cell_type": "code",
   "execution_count": 4,
   "id": "finite-inspiration",
   "metadata": {},
   "outputs": [],
   "source": [
    "chrome_path = r\"C:\\Users\\HP\\Downloads\\chromedriver_win32\\chromedriver.exe\""
   ]
  },
  {
   "cell_type": "code",
   "execution_count": 5,
   "id": "electronic-champagne",
   "metadata": {},
   "outputs": [],
   "source": [
    "def scrollDown(driver, n_scroll):\n",
    "    body = driver.find_element_by_tag_name(\"body\")\n",
    "    while n_scroll >= 0:\n",
    "        body.send_keys(Keys.PAGE_DOWN)\n",
    "        n_scroll -= 1\n",
    "    return driver"
   ]
  },
  {
   "cell_type": "code",
   "execution_count": 6,
   "id": "biological-surrey",
   "metadata": {},
   "outputs": [],
   "source": [
    "driver = webdriver.Chrome(chrome_path)"
   ]
  },
  {
   "cell_type": "code",
   "execution_count": 7,
   "id": "twelve-sunglasses",
   "metadata": {},
   "outputs": [],
   "source": [
    "driver.get(\"https://www.sephora.com\")"
   ]
  },
  {
   "cell_type": "code",
   "execution_count": 8,
   "id": "swiss-foundation",
   "metadata": {},
   "outputs": [],
   "source": [
    "driver.find_element_by_xpath(\"\"\"/html/body/div[1]/div[1]/header/div[3]/div/a[4]\"\"\").click()"
   ]
  },
  {
   "cell_type": "code",
   "execution_count": 9,
   "id": "broad-theta",
   "metadata": {},
   "outputs": [
    {
     "name": "stdout",
     "output_type": "stream",
     "text": [
      "Empty DataFrame\n",
      "Columns: [Label, URL]\n",
      "Index: []\n"
     ]
    }
   ],
   "source": [
    "import pandas as pd\n",
    "#initializing empty dataframe\n",
    "df = pd.DataFrame(columns=['Label', 'URL'])\n",
    "print(df)"
   ]
  },
  {
   "cell_type": "code",
   "execution_count": 10,
   "id": "recovered-bailey",
   "metadata": {},
   "outputs": [],
   "source": [
    "import time\n",
    "#Step 1\n",
    "# tickers = ['*moisturizing-cream-oils-mists', '*cleanser', '*facial-treatments', '*eye-treatment-dark-circle-treatment',\n",
    "#           '*face-mask', 'sunscreen-sun-protection', '*lip-treatments']\n",
    "\n",
    "tickers = ['sunscreen-sun-protection']\n",
    "\n",
    "for ticker in tickers:\n",
    "    url = 'https://www.sephora.com/shop/' + ticker + '?pageSize=300'\n",
    "    driver.get(url)\n",
    "    \n",
    "    driver.find_element_by_xpath(\"\"\"/html/body/div[1]/div[2]/div/div/div/div[2]/div[1]/div/nav/a[1]\"\"\").click()\n",
    "    time.sleep(20)\n",
    "    \n",
    "    browser = scrollDown(driver, 10)\n",
    "    time.sleep(10)\n",
    "\n",
    "    browser = scrollDown(driver, 10)\n",
    "    time.sleep(10)\n",
    "\n",
    "    browser = scrollDown(driver, 10)\n",
    "    time.sleep(10)\n",
    "\n",
    "    browser = scrollDown(driver, 10)\n",
    "\n",
    "    element = driver.find_elements_by_class_name('css-ix8km1')\n",
    "    \n",
    "    subpageURL = []\n",
    "    for a in element:\n",
    "        subURL = a.get_attribute('href')\n",
    "        subpageURL.append(subURL)\n",
    "        \n",
    "    \n",
    "    # transform into a dataframe\n",
    "    dic = {'Label': ticker, 'URL':subpageURL}\n",
    "    df = df.append(pd.DataFrame(dic), ignore_index = True)\n",
    "    \n",
    "#add coulmns\n",
    "# df2 = pd.DataFrame(columns=['brand', 'name', 'price', 'rating', 'skin_type', 'ingredients'])\n",
    "df2 = pd.DataFrame(columns=['brand', 'name', 'price', 'rating', 'skin_type', 'ingredients','product_image'])\n",
    "df = pd.concat([df, df2], axis = 1)"
   ]
  },
  {
   "cell_type": "code",
   "execution_count": null,
   "id": "mexican-pharmacology",
   "metadata": {},
   "outputs": [],
   "source": []
  },
  {
   "cell_type": "code",
   "execution_count": null,
   "id": "institutional-microwave",
   "metadata": {},
   "outputs": [],
   "source": []
  },
  {
   "cell_type": "code",
   "execution_count": 11,
   "id": "center-least",
   "metadata": {},
   "outputs": [
    {
     "name": "stdout",
     "output_type": "stream",
     "text": [
      "https://www.sephora.com/productimages/sku/s2428779-main-zoom.jpg?imwidth=315\n",
      "0\n",
      "https://www.sephora.com/productimages/sku/s2344307-main-zoom.jpg?imwidth=315\n",
      "1\n",
      "https://www.sephora.com/productimages/sku/s2315158-main-zoom.jpg?imwidth=315\n",
      "2\n",
      "https://www.sephora.com/productimages/sku/s1855709-main-zoom.jpg?imwidth=315\n",
      "3\n",
      "https://www.sephora.com/productimages/sku/s1868157-main-zoom.jpg?imwidth=315\n",
      "4\n",
      "https://www.sephora.com/productimages/sku/s1396399-main-zoom.jpg?imwidth=315\n",
      "5\n",
      "https://www.sephora.com/productimages/sku/s2449478-main-zoom.jpg?imwidth=315\n",
      "6\n",
      "https://www.sephora.com/productimages/sku/s2250611-main-zoom.jpg?imwidth=315\n",
      "7\n",
      "https://www.sephora.com/productimages/sku/s2322774-main-zoom.jpg?imwidth=315\n",
      "8\n",
      "https://www.sephora.com/productimages/sku/s2418879-main-zoom.jpg?imwidth=315\n",
      "9\n",
      "https://www.sephora.com/productimages/sku/s2186773-main-zoom.jpg?imwidth=315\n",
      "10\n",
      "https://www.sephora.com/productimages/sku/s1452002-main-zoom.jpg?imwidth=315\n",
      "11\n",
      "https://www.sephora.com/productimages/sku/s2088276-main-zoom.jpg?imwidth=315\n",
      "12\n",
      "https://www.sephora.com/productimages/sku/s2347789-main-zoom.jpg?imwidth=315\n",
      "13\n",
      "https://www.sephora.com/productimages/sku/s1826569-main-zoom.jpg?imwidth=315\n",
      "14\n",
      "https://www.sephora.com/productimages/sku/s2422350-main-zoom.jpg?imwidth=315\n",
      "15\n",
      "https://www.sephora.com/productimages/sku/s2326239-main-zoom.jpg?imwidth=315\n",
      "16\n",
      "https://www.sephora.com/productimages/sku/s1869015-main-zoom.jpg?imwidth=315\n",
      "17\n",
      "https://www.sephora.com/productimages/sku/s1327915-main-zoom.jpg?imwidth=315\n",
      "18\n",
      "https://www.sephora.com/productimages/sku/s2421576-main-zoom.jpg?imwidth=315\n",
      "19\n"
     ]
    }
   ],
   "source": [
    "# step 2\n",
    "for i in range(20):\n",
    "    url = df.URL[i]\n",
    "    driver.get(url)\n",
    "    time.sleep(5)\n",
    "    \n",
    "    #driver.find_element_by_xpath(\"\"\"/html/body/div[1]/div[2]/div/div/div/div[2]/div[1]/div/nav/a[1]\"\"\").click()\n",
    "    \n",
    "    # brand, name, price\n",
    "    df.brand[i] = driver.find_element_by_class_name('css-nc375s').text\n",
    "    df.name[i] = driver.find_element_by_class_name('css-1pgnl76').text\n",
    "    df.price[i] = driver.find_element_by_class_name('css-1oz9qb').text\n",
    "\n",
    "    browser = scrollDown(driver, 1)\n",
    "    time.sleep(5)\n",
    "    browser = scrollDown(driver, 1)\n",
    "    time.sleep(5)\n",
    "    \n",
    "    #skin_type\n",
    "    #/html/body/div[1]/div[2]/div/main/div/div[5]/div[2]/div/div/text()[6]\n",
    "\n",
    "    try:\n",
    "        detail = driver.find_element_by_class_name('css-10bjc73 eanm77i0').text\n",
    "        pattern = r\"✔ \\w+\\n\"\n",
    "        df.skin_type[i] = re.findall(pattern, detail)\n",
    "        print(df.skin_type[i])\n",
    "    except NoSuchElementException:\n",
    "        df.skin_type[i] = 'No info'\n",
    "        \n",
    "#     # skin_type\n",
    "#     df.skin_type[i] = driver.find_element_by.xpath(\"\"\"/html/body/div[1]/div[2]/div/main/div/div[5]/div[2]/div/div/text()[2]\"\"\").text\n",
    "#     #//*[@id=\"ingredients\"]/div/div\n",
    "\n",
    "    \n",
    "    # ingredients\n",
    "    driver.find_element_by_xpath(\"\"\"/html/body/div[1]/div[2]/div/main/div/button[1]\"\"\").click()\n",
    "\n",
    "    try:\n",
    "        df.ingredients[i] = driver.find_element_by_xpath('//*[@id=\"ingredients\"]/div/div').text\n",
    "    except NoSuchElementException:\n",
    "        df.ingredients[i] = 'No Info'\n",
    "\n",
    "    # rank\n",
    "    try:\n",
    "        df['rating'][i] = driver.find_element_by_class_name('css-1ac1x0l eanm77i0').text\n",
    "    except NoSuchElementException:\n",
    "        df['rating'][i] = 'No Info'\n",
    "        \n",
    "    \n",
    "    #product image\n",
    "    img = driver.find_element_by_class_name('css-1rovmyu')\n",
    "    x = img.get_attribute(\"src\")\n",
    "    df.product_image[i] = x\n",
    "    print(x)\n",
    "#     imgsrc= driver.find_element_by_xpath(\"//img[contains(@class,'css-b8zput')]\")\n",
    "#     x=imgsrc.get_attribute(\"src\")\n",
    "#     print(x)\n",
    "    \n",
    "    #df.product_image[i] = driver.find_element_by_class_name('')\n",
    "\n",
    "    print(i)    # just for verbose\n",
    "\n",
    "\n",
    "df.to_csv('data/sunscream.csv', encoding = 'utf-8-sig', index = False)"
   ]
  },
  {
   "cell_type": "code",
   "execution_count": null,
   "id": "incident-examination",
   "metadata": {},
   "outputs": [],
   "source": []
  }
 ],
 "metadata": {
  "kernelspec": {
   "display_name": "Python 3",
   "language": "python",
   "name": "python3"
  },
  "language_info": {
   "codemirror_mode": {
    "name": "ipython",
    "version": 3
   },
   "file_extension": ".py",
   "mimetype": "text/x-python",
   "name": "python",
   "nbconvert_exporter": "python",
   "pygments_lexer": "ipython3",
   "version": "3.8.5"
  }
 },
 "nbformat": 4,
 "nbformat_minor": 5
}
