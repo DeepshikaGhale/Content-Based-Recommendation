{
 "cells": [
  {
   "cell_type": "code",
   "execution_count": 22,
   "id": "shaped-summary",
   "metadata": {},
   "outputs": [],
   "source": [
    "import pandas as pd\n",
    "import numpy as np\n",
    "from sklearn.manifold import TSNE\n",
    "from sklearn.decomposition import TruncatedSVD"
   ]
  },
  {
   "cell_type": "code",
   "execution_count": 23,
   "id": "efficient-flexibility",
   "metadata": {},
   "outputs": [],
   "source": [
    "# Load the data\n",
    "cosm = pd.read_csv('data/ocosmetic_p.csv')"
   ]
  },
  {
   "cell_type": "code",
   "execution_count": 24,
   "id": "current-flash",
   "metadata": {},
   "outputs": [],
   "source": [
    "#All possible combinations for the option choices\n",
    "option_1 = cosm.Label.unique().tolist()\n",
    "option_2 = ['Combination', 'Dry', 'Normal', 'Oily', 'Sensitive']\n",
    "# option_1 = cosm.Label.unique().tolist()\n",
    "# option_2 = cosm.columns[6:].tolist()"
   ]
  },
  {
   "cell_type": "code",
   "execution_count": null,
   "id": "crazy-arcade",
   "metadata": {},
   "outputs": [],
   "source": []
  },
  {
   "cell_type": "code",
   "execution_count": 26,
   "id": "compact-filter",
   "metadata": {},
   "outputs": [
    {
     "name": "stderr",
     "output_type": "stream",
     "text": [
      "<ipython-input-26-b1c1249f5bdd>:2: UserWarning: Boolean Series key will be reindexed to match DataFrame index.\n",
      "  df = cosm[cosm['Label'] == 'Moisturizer'][cosm['Combination'] == 1]\n"
     ]
    },
    {
     "data": {
      "text/plain": [
       "199"
      ]
     },
     "execution_count": 26,
     "metadata": {},
     "output_type": "execute_result"
    }
   ],
   "source": [
    "# #filtering the data\n",
    "df = cosm[cosm['Label'] == 'Moisturizer'][cosm['Combination'] == 1]\n",
    "df = df.reset_index()\n",
    "len(df)\n",
    "# df = cosm[cosm['Label'] == option_1][cosm[option_2] == 1]\n",
    "# df = df.reset_index()\n",
    "# len(df)"
   ]
  },
  {
   "cell_type": "code",
   "execution_count": null,
   "id": "geographic-therapist",
   "metadata": {},
   "outputs": [],
   "source": []
  },
  {
   "cell_type": "code",
   "execution_count": 27,
   "id": "bulgarian-encyclopedia",
   "metadata": {},
   "outputs": [
    {
     "data": {
      "text/html": [
       "<div>\n",
       "<style scoped>\n",
       "    .dataframe tbody tr th:only-of-type {\n",
       "        vertical-align: middle;\n",
       "    }\n",
       "\n",
       "    .dataframe tbody tr th {\n",
       "        vertical-align: top;\n",
       "    }\n",
       "\n",
       "    .dataframe thead th {\n",
       "        text-align: right;\n",
       "    }\n",
       "</style>\n",
       "<table border=\"1\" class=\"dataframe\">\n",
       "  <thead>\n",
       "    <tr style=\"text-align: right;\">\n",
       "      <th></th>\n",
       "      <th>Label</th>\n",
       "      <th>brand</th>\n",
       "      <th>name</th>\n",
       "      <th>price</th>\n",
       "      <th>rank</th>\n",
       "      <th>SVD1</th>\n",
       "      <th>SVD2</th>\n",
       "    </tr>\n",
       "  </thead>\n",
       "  <tbody>\n",
       "    <tr>\n",
       "      <th>194</th>\n",
       "      <td>Moisturizer</td>\n",
       "      <td>SHISEIDO</td>\n",
       "      <td>White Lucent All Day Brightener Broad Spectrum...</td>\n",
       "      <td>62</td>\n",
       "      <td>4.6</td>\n",
       "      <td>2.933927</td>\n",
       "      <td>-0.166521</td>\n",
       "    </tr>\n",
       "    <tr>\n",
       "      <th>195</th>\n",
       "      <td>Moisturizer</td>\n",
       "      <td>SATURDAY SKIN</td>\n",
       "      <td>Featherweight Daily Moisturizing Cream</td>\n",
       "      <td>49</td>\n",
       "      <td>4.6</td>\n",
       "      <td>3.069613</td>\n",
       "      <td>-1.523037</td>\n",
       "    </tr>\n",
       "    <tr>\n",
       "      <th>196</th>\n",
       "      <td>Moisturizer</td>\n",
       "      <td>HERBIVORE</td>\n",
       "      <td>Jasmine Green Tea Balancing Toner</td>\n",
       "      <td>39</td>\n",
       "      <td>4.2</td>\n",
       "      <td>0.082719</td>\n",
       "      <td>-0.046447</td>\n",
       "    </tr>\n",
       "    <tr>\n",
       "      <th>197</th>\n",
       "      <td>Moisturizer</td>\n",
       "      <td>KATE SOMERVILLE</td>\n",
       "      <td>Goat Milk Moisturizing Cream</td>\n",
       "      <td>65</td>\n",
       "      <td>4.1</td>\n",
       "      <td>2.531714</td>\n",
       "      <td>-0.327133</td>\n",
       "    </tr>\n",
       "    <tr>\n",
       "      <th>198</th>\n",
       "      <td>Moisturizer</td>\n",
       "      <td>GO-TO</td>\n",
       "      <td>Face Hero</td>\n",
       "      <td>34</td>\n",
       "      <td>4.8</td>\n",
       "      <td>0.000019</td>\n",
       "      <td>0.000163</td>\n",
       "    </tr>\n",
       "  </tbody>\n",
       "</table>\n",
       "</div>"
      ],
      "text/plain": [
       "           Label            brand  \\\n",
       "194  Moisturizer         SHISEIDO   \n",
       "195  Moisturizer    SATURDAY SKIN   \n",
       "196  Moisturizer        HERBIVORE   \n",
       "197  Moisturizer  KATE SOMERVILLE   \n",
       "198  Moisturizer            GO-TO   \n",
       "\n",
       "                                                  name  price  rank      SVD1  \\\n",
       "194  White Lucent All Day Brightener Broad Spectrum...     62   4.6  2.933927   \n",
       "195             Featherweight Daily Moisturizing Cream     49   4.6  3.069613   \n",
       "196                  Jasmine Green Tea Balancing Toner     39   4.2  0.082719   \n",
       "197                       Goat Milk Moisturizing Cream     65   4.1  2.531714   \n",
       "198                                          Face Hero     34   4.8  0.000019   \n",
       "\n",
       "         SVD2  \n",
       "194 -0.166521  \n",
       "195 -1.523037  \n",
       "196 -0.046447  \n",
       "197 -0.327133  \n",
       "198  0.000163  "
      ]
     },
     "execution_count": 27,
     "metadata": {},
     "output_type": "execute_result"
    }
   ],
   "source": [
    "\n",
    "    \n",
    "    #tokenization\n",
    "    word_index_map = {}\n",
    "    index_word_map = []\n",
    "    current_index = 0\n",
    "    corpus = []\n",
    "\n",
    "    for i in range(len(df)):\n",
    "        text = df['ingredients'][i]\n",
    "        text = text.lower()\n",
    "        tokens = text.split(', ')\n",
    "        corpus.append(tokens)\n",
    "        for ingredient in tokens:\n",
    "            if ingredient not in word_index_map:\n",
    "                word_index_map[ingredient] = current_index\n",
    "                current_index += 1\n",
    "                index_word_map.append(ingredient)\n",
    "                \n",
    "    # prepare matrix using numpy\n",
    "    D = len(corpus)                 # The number of documents\n",
    "    N = len(word_index_map)     # The number of the tokens\n",
    "\n",
    "    # Initialize a matrix of zeros\n",
    "    X = np.zeros((D, N))\n",
    "\n",
    "    #vectorizing the tokens\n",
    "    def tokens_to_vector(tokens):\n",
    "        #initializing empty array\n",
    "        x = np.zeros(N)\n",
    "        for t in tokens:\n",
    "            # Get the index for each ingredient\n",
    "            i = word_index_map[t]\n",
    "            # Put 1 at the corresponding indices\n",
    "            x[i] = 1\n",
    "        return x\n",
    "\n",
    "    # Make a document-term matrix\n",
    "    i = 0\n",
    "    for tokens in corpus:\n",
    "        X[i, :] = tokens_to_vector(tokens)\n",
    "        i += 1\n",
    "\n",
    "    # Dimension reduction with SVD\n",
    "    svd = TruncatedSVD()\n",
    "    Z = svd.fit_transform(X)\n",
    "    Z_df = pd.DataFrame(data = Z, columns = ['SVD1', 'SVD2'])   \n",
    "    cosm_svd = pd.concat([df.iloc[:, 1:6], Z_df], axis = 1)\n",
    "    cosm_svd.tail()\n"
   ]
  },
  {
   "cell_type": "code",
   "execution_count": null,
   "id": "useful-sitting",
   "metadata": {},
   "outputs": [],
   "source": []
  },
  {
   "cell_type": "code",
   "execution_count": 28,
   "id": "rapid-complaint",
   "metadata": {},
   "outputs": [
    {
     "data": {
      "text/html": [
       "<div>\n",
       "<style scoped>\n",
       "    .dataframe tbody tr th:only-of-type {\n",
       "        vertical-align: middle;\n",
       "    }\n",
       "\n",
       "    .dataframe tbody tr th {\n",
       "        vertical-align: top;\n",
       "    }\n",
       "\n",
       "    .dataframe thead th {\n",
       "        text-align: right;\n",
       "    }\n",
       "</style>\n",
       "<table border=\"1\" class=\"dataframe\">\n",
       "  <thead>\n",
       "    <tr style=\"text-align: right;\">\n",
       "      <th></th>\n",
       "      <th>Label</th>\n",
       "      <th>brand</th>\n",
       "      <th>name</th>\n",
       "      <th>price</th>\n",
       "      <th>rank</th>\n",
       "      <th>SVD1</th>\n",
       "      <th>SVD2</th>\n",
       "    </tr>\n",
       "  </thead>\n",
       "  <tbody>\n",
       "    <tr>\n",
       "      <th>194</th>\n",
       "      <td>Moisturizer</td>\n",
       "      <td>SHISEIDO</td>\n",
       "      <td>White Lucent All Day Brightener Broad Spectrum...</td>\n",
       "      <td>62</td>\n",
       "      <td>4.6</td>\n",
       "      <td>2.933927</td>\n",
       "      <td>-0.166521</td>\n",
       "    </tr>\n",
       "    <tr>\n",
       "      <th>195</th>\n",
       "      <td>Moisturizer</td>\n",
       "      <td>SATURDAY SKIN</td>\n",
       "      <td>Featherweight Daily Moisturizing Cream</td>\n",
       "      <td>49</td>\n",
       "      <td>4.6</td>\n",
       "      <td>3.069613</td>\n",
       "      <td>-1.523037</td>\n",
       "    </tr>\n",
       "    <tr>\n",
       "      <th>196</th>\n",
       "      <td>Moisturizer</td>\n",
       "      <td>HERBIVORE</td>\n",
       "      <td>Jasmine Green Tea Balancing Toner</td>\n",
       "      <td>39</td>\n",
       "      <td>4.2</td>\n",
       "      <td>0.082719</td>\n",
       "      <td>-0.046447</td>\n",
       "    </tr>\n",
       "    <tr>\n",
       "      <th>197</th>\n",
       "      <td>Moisturizer</td>\n",
       "      <td>KATE SOMERVILLE</td>\n",
       "      <td>Goat Milk Moisturizing Cream</td>\n",
       "      <td>65</td>\n",
       "      <td>4.1</td>\n",
       "      <td>2.531714</td>\n",
       "      <td>-0.327133</td>\n",
       "    </tr>\n",
       "    <tr>\n",
       "      <th>198</th>\n",
       "      <td>Moisturizer</td>\n",
       "      <td>GO-TO</td>\n",
       "      <td>Face Hero</td>\n",
       "      <td>34</td>\n",
       "      <td>4.8</td>\n",
       "      <td>0.000019</td>\n",
       "      <td>0.000163</td>\n",
       "    </tr>\n",
       "  </tbody>\n",
       "</table>\n",
       "</div>"
      ],
      "text/plain": [
       "           Label            brand  \\\n",
       "194  Moisturizer         SHISEIDO   \n",
       "195  Moisturizer    SATURDAY SKIN   \n",
       "196  Moisturizer        HERBIVORE   \n",
       "197  Moisturizer  KATE SOMERVILLE   \n",
       "198  Moisturizer            GO-TO   \n",
       "\n",
       "                                                  name  price  rank      SVD1  \\\n",
       "194  White Lucent All Day Brightener Broad Spectrum...     62   4.6  2.933927   \n",
       "195             Featherweight Daily Moisturizing Cream     49   4.6  3.069613   \n",
       "196                  Jasmine Green Tea Balancing Toner     39   4.2  0.082719   \n",
       "197                       Goat Milk Moisturizing Cream     65   4.1  2.531714   \n",
       "198                                          Face Hero     34   4.8  0.000019   \n",
       "\n",
       "         SVD2  \n",
       "194 -0.166521  \n",
       "195 -1.523037  \n",
       "196 -0.046447  \n",
       "197 -0.327133  \n",
       "198  0.000163  "
      ]
     },
     "execution_count": 28,
     "metadata": {},
     "output_type": "execute_result"
    }
   ],
   "source": [
    "cosm_svd.tail()"
   ]
  },
  {
   "cell_type": "code",
   "execution_count": 7,
   "id": "convertible-convert",
   "metadata": {},
   "outputs": [],
   "source": [
    "# Save the file\n",
    "cosm_svd.to_csv('data/skincare_SVD12.csv', encoding = 'utf-8-sig', index = False)"
   ]
  },
  {
   "cell_type": "code",
   "execution_count": 8,
   "id": "valid-cholesterol",
   "metadata": {},
   "outputs": [
    {
     "name": "stdout",
     "output_type": "stream",
     "text": [
      "<class 'pandas.core.frame.DataFrame'>\n",
      "RangeIndex: 190 entries, 0 to 189\n",
      "Data columns (total 7 columns):\n",
      " #   Column  Non-Null Count  Dtype  \n",
      "---  ------  --------------  -----  \n",
      " 0   Label   190 non-null    object \n",
      " 1   brand   190 non-null    object \n",
      " 2   name    190 non-null    object \n",
      " 3   price   190 non-null    int64  \n",
      " 4   rank    190 non-null    float64\n",
      " 5   SVD1    190 non-null    float64\n",
      " 6   SVD2    190 non-null    float64\n",
      "dtypes: float64(3), int64(1), object(3)\n",
      "memory usage: 8.2+ KB\n"
     ]
    }
   ],
   "source": [
    "cosm_svd.info()"
   ]
  },
  {
   "cell_type": "code",
   "execution_count": 9,
   "id": "minimal-retention",
   "metadata": {},
   "outputs": [
    {
     "name": "stdout",
     "output_type": "stream",
     "text": [
      "<class 'pandas.core.frame.DataFrame'>\n",
      "RangeIndex: 1472 entries, 0 to 1471\n",
      "Data columns (total 11 columns):\n",
      " #   Column       Non-Null Count  Dtype  \n",
      "---  ------       --------------  -----  \n",
      " 0   Label        1472 non-null   object \n",
      " 1   brand        1472 non-null   object \n",
      " 2   name         1472 non-null   object \n",
      " 3   price        1472 non-null   int64  \n",
      " 4   rank         1472 non-null   float64\n",
      " 5   ingredients  1472 non-null   object \n",
      " 6   Combination  1472 non-null   int64  \n",
      " 7   Dry          1472 non-null   int64  \n",
      " 8   Normal       1472 non-null   int64  \n",
      " 9   Oily         1472 non-null   int64  \n",
      " 10  Sensitive    1472 non-null   int64  \n",
      "dtypes: float64(1), int64(6), object(4)\n",
      "memory usage: 103.6+ KB\n"
     ]
    }
   ],
   "source": [
    "cosm.info()"
   ]
  },
  {
   "cell_type": "code",
   "execution_count": null,
   "id": "present-waste",
   "metadata": {},
   "outputs": [],
   "source": []
  }
 ],
 "metadata": {
  "kernelspec": {
   "display_name": "Python 3",
   "language": "python",
   "name": "python3"
  },
  "language_info": {
   "codemirror_mode": {
    "name": "ipython",
    "version": 3
   },
   "file_extension": ".py",
   "mimetype": "text/x-python",
   "name": "python",
   "nbconvert_exporter": "python",
   "pygments_lexer": "ipython3",
   "version": "3.8.5"
  }
 },
 "nbformat": 4,
 "nbformat_minor": 5
}
